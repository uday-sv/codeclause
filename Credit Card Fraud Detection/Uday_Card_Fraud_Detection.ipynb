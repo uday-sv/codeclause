{
 "cells": [
  {
   "cell_type": "code",
   "execution_count": 1,
   "id": "e75f579a",
   "metadata": {
    "execution": {
     "iopub.execute_input": "2023-10-27T10:51:01.725295Z",
     "iopub.status.busy": "2023-10-27T10:51:01.724746Z",
     "iopub.status.idle": "2023-10-27T10:51:03.635761Z",
     "shell.execute_reply": "2023-10-27T10:51:03.634487Z"
    },
    "id": "Sojlbe0FYnaJ",
    "papermill": {
     "duration": 1.929268,
     "end_time": "2023-10-27T10:51:03.639662",
     "exception": false,
     "start_time": "2023-10-27T10:51:01.710394",
     "status": "completed"
    },
    "tags": []
   },
   "outputs": [],
   "source": [
    "import numpy as np\n",
    "import pandas as pd\n",
    "from sklearn.model_selection import train_test_split\n",
    "from sklearn.linear_model import LogisticRegression\n",
    "from sklearn.metrics import accuracy_score"
   ]
  },
  {
   "cell_type": "code",
   "execution_count": 2,
   "id": "bd3e6577",
   "metadata": {
    "execution": {
     "iopub.execute_input": "2023-10-27T10:51:03.669432Z",
     "iopub.status.busy": "2023-10-27T10:51:03.668751Z",
     "iopub.status.idle": "2023-10-27T10:51:08.985273Z",
     "shell.execute_reply": "2023-10-27T10:51:08.983824Z"
    },
    "id": "WRRHK96pYRxM",
    "papermill": {
     "duration": 5.33495,
     "end_time": "2023-10-27T10:51:08.989048",
     "exception": false,
     "start_time": "2023-10-27T10:51:03.654098",
     "status": "completed"
    },
    "tags": []
   },
   "outputs": [],
   "source": [
    "#loading a datset in pd\n",
    "credit_card_data=pd.read_csv('creditcard.csv')"
   ]
  },
  {
   "cell_type": "code",
   "execution_count": 3,
   "id": "ba46071f",
   "metadata": {
    "execution": {
     "iopub.execute_input": "2023-10-27T10:51:09.020145Z",
     "iopub.status.busy": "2023-10-27T10:51:09.019730Z",
     "iopub.status.idle": "2023-10-27T10:51:09.063710Z",
     "shell.execute_reply": "2023-10-27T10:51:09.062876Z"
    },
    "id": "QTwOmv7DcTEY",
    "outputId": "c2cebec9-0069-4706-82ab-9d35a0526081",
    "papermill": {
     "duration": 0.064289,
     "end_time": "2023-10-27T10:51:09.067490",
     "exception": false,
     "start_time": "2023-10-27T10:51:09.003201",
     "status": "completed"
    },
    "tags": []
   },
   "outputs": [
    {
     "data": {
      "text/html": [
       "<div>\n",
       "<style scoped>\n",
       "    .dataframe tbody tr th:only-of-type {\n",
       "        vertical-align: middle;\n",
       "    }\n",
       "\n",
       "    .dataframe tbody tr th {\n",
       "        vertical-align: top;\n",
       "    }\n",
       "\n",
       "    .dataframe thead th {\n",
       "        text-align: right;\n",
       "    }\n",
       "</style>\n",
       "<table border=\"1\" class=\"dataframe\">\n",
       "  <thead>\n",
       "    <tr style=\"text-align: right;\">\n",
       "      <th></th>\n",
       "      <th>Time</th>\n",
       "      <th>V1</th>\n",
       "      <th>V2</th>\n",
       "      <th>V3</th>\n",
       "      <th>V4</th>\n",
       "      <th>V5</th>\n",
       "      <th>V6</th>\n",
       "      <th>V7</th>\n",
       "      <th>V8</th>\n",
       "      <th>V9</th>\n",
       "      <th>...</th>\n",
       "      <th>V21</th>\n",
       "      <th>V22</th>\n",
       "      <th>V23</th>\n",
       "      <th>V24</th>\n",
       "      <th>V25</th>\n",
       "      <th>V26</th>\n",
       "      <th>V27</th>\n",
       "      <th>V28</th>\n",
       "      <th>Amount</th>\n",
       "      <th>Class</th>\n",
       "    </tr>\n",
       "  </thead>\n",
       "  <tbody>\n",
       "    <tr>\n",
       "      <th>0</th>\n",
       "      <td>0.0</td>\n",
       "      <td>-1.359807</td>\n",
       "      <td>-0.072781</td>\n",
       "      <td>2.536347</td>\n",
       "      <td>1.378155</td>\n",
       "      <td>-0.338321</td>\n",
       "      <td>0.462388</td>\n",
       "      <td>0.239599</td>\n",
       "      <td>0.098698</td>\n",
       "      <td>0.363787</td>\n",
       "      <td>...</td>\n",
       "      <td>-0.018307</td>\n",
       "      <td>0.277838</td>\n",
       "      <td>-0.110474</td>\n",
       "      <td>0.066928</td>\n",
       "      <td>0.128539</td>\n",
       "      <td>-0.189115</td>\n",
       "      <td>0.133558</td>\n",
       "      <td>-0.021053</td>\n",
       "      <td>149.62</td>\n",
       "      <td>0</td>\n",
       "    </tr>\n",
       "    <tr>\n",
       "      <th>1</th>\n",
       "      <td>0.0</td>\n",
       "      <td>1.191857</td>\n",
       "      <td>0.266151</td>\n",
       "      <td>0.166480</td>\n",
       "      <td>0.448154</td>\n",
       "      <td>0.060018</td>\n",
       "      <td>-0.082361</td>\n",
       "      <td>-0.078803</td>\n",
       "      <td>0.085102</td>\n",
       "      <td>-0.255425</td>\n",
       "      <td>...</td>\n",
       "      <td>-0.225775</td>\n",
       "      <td>-0.638672</td>\n",
       "      <td>0.101288</td>\n",
       "      <td>-0.339846</td>\n",
       "      <td>0.167170</td>\n",
       "      <td>0.125895</td>\n",
       "      <td>-0.008983</td>\n",
       "      <td>0.014724</td>\n",
       "      <td>2.69</td>\n",
       "      <td>0</td>\n",
       "    </tr>\n",
       "    <tr>\n",
       "      <th>2</th>\n",
       "      <td>1.0</td>\n",
       "      <td>-1.358354</td>\n",
       "      <td>-1.340163</td>\n",
       "      <td>1.773209</td>\n",
       "      <td>0.379780</td>\n",
       "      <td>-0.503198</td>\n",
       "      <td>1.800499</td>\n",
       "      <td>0.791461</td>\n",
       "      <td>0.247676</td>\n",
       "      <td>-1.514654</td>\n",
       "      <td>...</td>\n",
       "      <td>0.247998</td>\n",
       "      <td>0.771679</td>\n",
       "      <td>0.909412</td>\n",
       "      <td>-0.689281</td>\n",
       "      <td>-0.327642</td>\n",
       "      <td>-0.139097</td>\n",
       "      <td>-0.055353</td>\n",
       "      <td>-0.059752</td>\n",
       "      <td>378.66</td>\n",
       "      <td>0</td>\n",
       "    </tr>\n",
       "    <tr>\n",
       "      <th>3</th>\n",
       "      <td>1.0</td>\n",
       "      <td>-0.966272</td>\n",
       "      <td>-0.185226</td>\n",
       "      <td>1.792993</td>\n",
       "      <td>-0.863291</td>\n",
       "      <td>-0.010309</td>\n",
       "      <td>1.247203</td>\n",
       "      <td>0.237609</td>\n",
       "      <td>0.377436</td>\n",
       "      <td>-1.387024</td>\n",
       "      <td>...</td>\n",
       "      <td>-0.108300</td>\n",
       "      <td>0.005274</td>\n",
       "      <td>-0.190321</td>\n",
       "      <td>-1.175575</td>\n",
       "      <td>0.647376</td>\n",
       "      <td>-0.221929</td>\n",
       "      <td>0.062723</td>\n",
       "      <td>0.061458</td>\n",
       "      <td>123.50</td>\n",
       "      <td>0</td>\n",
       "    </tr>\n",
       "    <tr>\n",
       "      <th>4</th>\n",
       "      <td>2.0</td>\n",
       "      <td>-1.158233</td>\n",
       "      <td>0.877737</td>\n",
       "      <td>1.548718</td>\n",
       "      <td>0.403034</td>\n",
       "      <td>-0.407193</td>\n",
       "      <td>0.095921</td>\n",
       "      <td>0.592941</td>\n",
       "      <td>-0.270533</td>\n",
       "      <td>0.817739</td>\n",
       "      <td>...</td>\n",
       "      <td>-0.009431</td>\n",
       "      <td>0.798278</td>\n",
       "      <td>-0.137458</td>\n",
       "      <td>0.141267</td>\n",
       "      <td>-0.206010</td>\n",
       "      <td>0.502292</td>\n",
       "      <td>0.219422</td>\n",
       "      <td>0.215153</td>\n",
       "      <td>69.99</td>\n",
       "      <td>0</td>\n",
       "    </tr>\n",
       "  </tbody>\n",
       "</table>\n",
       "<p>5 rows × 31 columns</p>\n",
       "</div>"
      ],
      "text/plain": [
       "   Time        V1        V2        V3        V4        V5        V6        V7  \\\n",
       "0   0.0 -1.359807 -0.072781  2.536347  1.378155 -0.338321  0.462388  0.239599   \n",
       "1   0.0  1.191857  0.266151  0.166480  0.448154  0.060018 -0.082361 -0.078803   \n",
       "2   1.0 -1.358354 -1.340163  1.773209  0.379780 -0.503198  1.800499  0.791461   \n",
       "3   1.0 -0.966272 -0.185226  1.792993 -0.863291 -0.010309  1.247203  0.237609   \n",
       "4   2.0 -1.158233  0.877737  1.548718  0.403034 -0.407193  0.095921  0.592941   \n",
       "\n",
       "         V8        V9  ...       V21       V22       V23       V24       V25  \\\n",
       "0  0.098698  0.363787  ... -0.018307  0.277838 -0.110474  0.066928  0.128539   \n",
       "1  0.085102 -0.255425  ... -0.225775 -0.638672  0.101288 -0.339846  0.167170   \n",
       "2  0.247676 -1.514654  ...  0.247998  0.771679  0.909412 -0.689281 -0.327642   \n",
       "3  0.377436 -1.387024  ... -0.108300  0.005274 -0.190321 -1.175575  0.647376   \n",
       "4 -0.270533  0.817739  ... -0.009431  0.798278 -0.137458  0.141267 -0.206010   \n",
       "\n",
       "        V26       V27       V28  Amount  Class  \n",
       "0 -0.189115  0.133558 -0.021053  149.62      0  \n",
       "1  0.125895 -0.008983  0.014724    2.69      0  \n",
       "2 -0.139097 -0.055353 -0.059752  378.66      0  \n",
       "3 -0.221929  0.062723  0.061458  123.50      0  \n",
       "4  0.502292  0.219422  0.215153   69.99      0  \n",
       "\n",
       "[5 rows x 31 columns]"
      ]
     },
     "execution_count": 3,
     "metadata": {},
     "output_type": "execute_result"
    }
   ],
   "source": [
    "credit_card_data.head()"
   ]
  },
  {
   "cell_type": "code",
   "execution_count": 4,
   "id": "356017cf",
   "metadata": {
    "execution": {
     "iopub.execute_input": "2023-10-27T10:51:09.098939Z",
     "iopub.status.busy": "2023-10-27T10:51:09.098236Z",
     "iopub.status.idle": "2023-10-27T10:51:09.130334Z",
     "shell.execute_reply": "2023-10-27T10:51:09.128649Z"
    },
    "id": "-woufJ_WcZmR",
    "outputId": "ca3028ce-4170-4b3b-9127-791fb73a7b6e",
    "papermill": {
     "duration": 0.051918,
     "end_time": "2023-10-27T10:51:09.133141",
     "exception": false,
     "start_time": "2023-10-27T10:51:09.081223",
     "status": "completed"
    },
    "tags": []
   },
   "outputs": [
    {
     "data": {
      "text/html": [
       "<div>\n",
       "<style scoped>\n",
       "    .dataframe tbody tr th:only-of-type {\n",
       "        vertical-align: middle;\n",
       "    }\n",
       "\n",
       "    .dataframe tbody tr th {\n",
       "        vertical-align: top;\n",
       "    }\n",
       "\n",
       "    .dataframe thead th {\n",
       "        text-align: right;\n",
       "    }\n",
       "</style>\n",
       "<table border=\"1\" class=\"dataframe\">\n",
       "  <thead>\n",
       "    <tr style=\"text-align: right;\">\n",
       "      <th></th>\n",
       "      <th>Time</th>\n",
       "      <th>V1</th>\n",
       "      <th>V2</th>\n",
       "      <th>V3</th>\n",
       "      <th>V4</th>\n",
       "      <th>V5</th>\n",
       "      <th>V6</th>\n",
       "      <th>V7</th>\n",
       "      <th>V8</th>\n",
       "      <th>V9</th>\n",
       "      <th>...</th>\n",
       "      <th>V21</th>\n",
       "      <th>V22</th>\n",
       "      <th>V23</th>\n",
       "      <th>V24</th>\n",
       "      <th>V25</th>\n",
       "      <th>V26</th>\n",
       "      <th>V27</th>\n",
       "      <th>V28</th>\n",
       "      <th>Amount</th>\n",
       "      <th>Class</th>\n",
       "    </tr>\n",
       "  </thead>\n",
       "  <tbody>\n",
       "    <tr>\n",
       "      <th>284802</th>\n",
       "      <td>172786.0</td>\n",
       "      <td>-11.881118</td>\n",
       "      <td>10.071785</td>\n",
       "      <td>-9.834783</td>\n",
       "      <td>-2.066656</td>\n",
       "      <td>-5.364473</td>\n",
       "      <td>-2.606837</td>\n",
       "      <td>-4.918215</td>\n",
       "      <td>7.305334</td>\n",
       "      <td>1.914428</td>\n",
       "      <td>...</td>\n",
       "      <td>0.213454</td>\n",
       "      <td>0.111864</td>\n",
       "      <td>1.014480</td>\n",
       "      <td>-0.509348</td>\n",
       "      <td>1.436807</td>\n",
       "      <td>0.250034</td>\n",
       "      <td>0.943651</td>\n",
       "      <td>0.823731</td>\n",
       "      <td>0.77</td>\n",
       "      <td>0</td>\n",
       "    </tr>\n",
       "    <tr>\n",
       "      <th>284803</th>\n",
       "      <td>172787.0</td>\n",
       "      <td>-0.732789</td>\n",
       "      <td>-0.055080</td>\n",
       "      <td>2.035030</td>\n",
       "      <td>-0.738589</td>\n",
       "      <td>0.868229</td>\n",
       "      <td>1.058415</td>\n",
       "      <td>0.024330</td>\n",
       "      <td>0.294869</td>\n",
       "      <td>0.584800</td>\n",
       "      <td>...</td>\n",
       "      <td>0.214205</td>\n",
       "      <td>0.924384</td>\n",
       "      <td>0.012463</td>\n",
       "      <td>-1.016226</td>\n",
       "      <td>-0.606624</td>\n",
       "      <td>-0.395255</td>\n",
       "      <td>0.068472</td>\n",
       "      <td>-0.053527</td>\n",
       "      <td>24.79</td>\n",
       "      <td>0</td>\n",
       "    </tr>\n",
       "    <tr>\n",
       "      <th>284804</th>\n",
       "      <td>172788.0</td>\n",
       "      <td>1.919565</td>\n",
       "      <td>-0.301254</td>\n",
       "      <td>-3.249640</td>\n",
       "      <td>-0.557828</td>\n",
       "      <td>2.630515</td>\n",
       "      <td>3.031260</td>\n",
       "      <td>-0.296827</td>\n",
       "      <td>0.708417</td>\n",
       "      <td>0.432454</td>\n",
       "      <td>...</td>\n",
       "      <td>0.232045</td>\n",
       "      <td>0.578229</td>\n",
       "      <td>-0.037501</td>\n",
       "      <td>0.640134</td>\n",
       "      <td>0.265745</td>\n",
       "      <td>-0.087371</td>\n",
       "      <td>0.004455</td>\n",
       "      <td>-0.026561</td>\n",
       "      <td>67.88</td>\n",
       "      <td>0</td>\n",
       "    </tr>\n",
       "    <tr>\n",
       "      <th>284805</th>\n",
       "      <td>172788.0</td>\n",
       "      <td>-0.240440</td>\n",
       "      <td>0.530483</td>\n",
       "      <td>0.702510</td>\n",
       "      <td>0.689799</td>\n",
       "      <td>-0.377961</td>\n",
       "      <td>0.623708</td>\n",
       "      <td>-0.686180</td>\n",
       "      <td>0.679145</td>\n",
       "      <td>0.392087</td>\n",
       "      <td>...</td>\n",
       "      <td>0.265245</td>\n",
       "      <td>0.800049</td>\n",
       "      <td>-0.163298</td>\n",
       "      <td>0.123205</td>\n",
       "      <td>-0.569159</td>\n",
       "      <td>0.546668</td>\n",
       "      <td>0.108821</td>\n",
       "      <td>0.104533</td>\n",
       "      <td>10.00</td>\n",
       "      <td>0</td>\n",
       "    </tr>\n",
       "    <tr>\n",
       "      <th>284806</th>\n",
       "      <td>172792.0</td>\n",
       "      <td>-0.533413</td>\n",
       "      <td>-0.189733</td>\n",
       "      <td>0.703337</td>\n",
       "      <td>-0.506271</td>\n",
       "      <td>-0.012546</td>\n",
       "      <td>-0.649617</td>\n",
       "      <td>1.577006</td>\n",
       "      <td>-0.414650</td>\n",
       "      <td>0.486180</td>\n",
       "      <td>...</td>\n",
       "      <td>0.261057</td>\n",
       "      <td>0.643078</td>\n",
       "      <td>0.376777</td>\n",
       "      <td>0.008797</td>\n",
       "      <td>-0.473649</td>\n",
       "      <td>-0.818267</td>\n",
       "      <td>-0.002415</td>\n",
       "      <td>0.013649</td>\n",
       "      <td>217.00</td>\n",
       "      <td>0</td>\n",
       "    </tr>\n",
       "  </tbody>\n",
       "</table>\n",
       "<p>5 rows × 31 columns</p>\n",
       "</div>"
      ],
      "text/plain": [
       "            Time         V1         V2        V3        V4        V5  \\\n",
       "284802  172786.0 -11.881118  10.071785 -9.834783 -2.066656 -5.364473   \n",
       "284803  172787.0  -0.732789  -0.055080  2.035030 -0.738589  0.868229   \n",
       "284804  172788.0   1.919565  -0.301254 -3.249640 -0.557828  2.630515   \n",
       "284805  172788.0  -0.240440   0.530483  0.702510  0.689799 -0.377961   \n",
       "284806  172792.0  -0.533413  -0.189733  0.703337 -0.506271 -0.012546   \n",
       "\n",
       "              V6        V7        V8        V9  ...       V21       V22  \\\n",
       "284802 -2.606837 -4.918215  7.305334  1.914428  ...  0.213454  0.111864   \n",
       "284803  1.058415  0.024330  0.294869  0.584800  ...  0.214205  0.924384   \n",
       "284804  3.031260 -0.296827  0.708417  0.432454  ...  0.232045  0.578229   \n",
       "284805  0.623708 -0.686180  0.679145  0.392087  ...  0.265245  0.800049   \n",
       "284806 -0.649617  1.577006 -0.414650  0.486180  ...  0.261057  0.643078   \n",
       "\n",
       "             V23       V24       V25       V26       V27       V28  Amount  \\\n",
       "284802  1.014480 -0.509348  1.436807  0.250034  0.943651  0.823731    0.77   \n",
       "284803  0.012463 -1.016226 -0.606624 -0.395255  0.068472 -0.053527   24.79   \n",
       "284804 -0.037501  0.640134  0.265745 -0.087371  0.004455 -0.026561   67.88   \n",
       "284805 -0.163298  0.123205 -0.569159  0.546668  0.108821  0.104533   10.00   \n",
       "284806  0.376777  0.008797 -0.473649 -0.818267 -0.002415  0.013649  217.00   \n",
       "\n",
       "        Class  \n",
       "284802      0  \n",
       "284803      0  \n",
       "284804      0  \n",
       "284805      0  \n",
       "284806      0  \n",
       "\n",
       "[5 rows x 31 columns]"
      ]
     },
     "execution_count": 4,
     "metadata": {},
     "output_type": "execute_result"
    }
   ],
   "source": [
    "credit_card_data.tail()"
   ]
  },
  {
   "cell_type": "code",
   "execution_count": 5,
   "id": "dd13f1d8",
   "metadata": {
    "execution": {
     "iopub.execute_input": "2023-10-27T10:51:09.166684Z",
     "iopub.status.busy": "2023-10-27T10:51:09.166225Z",
     "iopub.status.idle": "2023-10-27T10:51:09.300021Z",
     "shell.execute_reply": "2023-10-27T10:51:09.297854Z"
    },
    "id": "JJ1aSSbwcw71",
    "outputId": "e50514ec-4869-411c-ef6f-ba9395de5158",
    "papermill": {
     "duration": 0.155692,
     "end_time": "2023-10-27T10:51:09.303572",
     "exception": false,
     "start_time": "2023-10-27T10:51:09.147880",
     "status": "completed"
    },
    "tags": []
   },
   "outputs": [
    {
     "name": "stdout",
     "output_type": "stream",
     "text": [
      "<class 'pandas.core.frame.DataFrame'>\n",
      "RangeIndex: 284807 entries, 0 to 284806\n",
      "Data columns (total 31 columns):\n",
      " #   Column  Non-Null Count   Dtype  \n",
      "---  ------  --------------   -----  \n",
      " 0   Time    284807 non-null  float64\n",
      " 1   V1      284807 non-null  float64\n",
      " 2   V2      284807 non-null  float64\n",
      " 3   V3      284807 non-null  float64\n",
      " 4   V4      284807 non-null  float64\n",
      " 5   V5      284807 non-null  float64\n",
      " 6   V6      284807 non-null  float64\n",
      " 7   V7      284807 non-null  float64\n",
      " 8   V8      284807 non-null  float64\n",
      " 9   V9      284807 non-null  float64\n",
      " 10  V10     284807 non-null  float64\n",
      " 11  V11     284807 non-null  float64\n",
      " 12  V12     284807 non-null  float64\n",
      " 13  V13     284807 non-null  float64\n",
      " 14  V14     284807 non-null  float64\n",
      " 15  V15     284807 non-null  float64\n",
      " 16  V16     284807 non-null  float64\n",
      " 17  V17     284807 non-null  float64\n",
      " 18  V18     284807 non-null  float64\n",
      " 19  V19     284807 non-null  float64\n",
      " 20  V20     284807 non-null  float64\n",
      " 21  V21     284807 non-null  float64\n",
      " 22  V22     284807 non-null  float64\n",
      " 23  V23     284807 non-null  float64\n",
      " 24  V24     284807 non-null  float64\n",
      " 25  V25     284807 non-null  float64\n",
      " 26  V26     284807 non-null  float64\n",
      " 27  V27     284807 non-null  float64\n",
      " 28  V28     284807 non-null  float64\n",
      " 29  Amount  284807 non-null  float64\n",
      " 30  Class   284807 non-null  int64  \n",
      "dtypes: float64(30), int64(1)\n",
      "memory usage: 67.4 MB\n"
     ]
    }
   ],
   "source": [
    "credit_card_data.info()"
   ]
  },
  {
   "cell_type": "code",
   "execution_count": 6,
   "id": "5bd0651e",
   "metadata": {
    "execution": {
     "iopub.execute_input": "2023-10-27T10:51:09.334109Z",
     "iopub.status.busy": "2023-10-27T10:51:09.332983Z",
     "iopub.status.idle": "2023-10-27T10:51:09.355394Z",
     "shell.execute_reply": "2023-10-27T10:51:09.354193Z"
    },
    "id": "kjZWhxeQc_IR",
    "outputId": "233c76a3-49d8-4a66-e3ca-46131608df5d",
    "papermill": {
     "duration": 0.040557,
     "end_time": "2023-10-27T10:51:09.358168",
     "exception": false,
     "start_time": "2023-10-27T10:51:09.317611",
     "status": "completed"
    },
    "tags": []
   },
   "outputs": [
    {
     "data": {
      "text/plain": [
       "Time      0\n",
       "V1        0\n",
       "V2        0\n",
       "V3        0\n",
       "V4        0\n",
       "V5        0\n",
       "V6        0\n",
       "V7        0\n",
       "V8        0\n",
       "V9        0\n",
       "V10       0\n",
       "V11       0\n",
       "V12       0\n",
       "V13       0\n",
       "V14       0\n",
       "V15       0\n",
       "V16       0\n",
       "V17       0\n",
       "V18       0\n",
       "V19       0\n",
       "V20       0\n",
       "V21       0\n",
       "V22       0\n",
       "V23       0\n",
       "V24       0\n",
       "V25       0\n",
       "V26       0\n",
       "V27       0\n",
       "V28       0\n",
       "Amount    0\n",
       "Class     0\n",
       "dtype: int64"
      ]
     },
     "execution_count": 6,
     "metadata": {},
     "output_type": "execute_result"
    }
   ],
   "source": [
    "#no. of misssing values\n",
    "credit_card_data.isnull().sum()"
   ]
  },
  {
   "cell_type": "code",
   "execution_count": 7,
   "id": "d2bc9f1a",
   "metadata": {
    "execution": {
     "iopub.execute_input": "2023-10-27T10:51:09.389103Z",
     "iopub.status.busy": "2023-10-27T10:51:09.388687Z",
     "iopub.status.idle": "2023-10-27T10:51:09.400501Z",
     "shell.execute_reply": "2023-10-27T10:51:09.399247Z"
    },
    "id": "af6kbixtdTiP",
    "outputId": "3a7891da-8940-4b3c-8a7f-506a49a02571",
    "papermill": {
     "duration": 0.030648,
     "end_time": "2023-10-27T10:51:09.403068",
     "exception": false,
     "start_time": "2023-10-27T10:51:09.372420",
     "status": "completed"
    },
    "tags": []
   },
   "outputs": [
    {
     "data": {
      "text/plain": [
       "Class\n",
       "0    284315\n",
       "1       492\n",
       "Name: count, dtype: int64"
      ]
     },
     "execution_count": 7,
     "metadata": {},
     "output_type": "execute_result"
    }
   ],
   "source": [
    "#distribution of legit transactions and fraudlent transactions\n",
    "credit_card_data['Class'].value_counts()"
   ]
  },
  {
   "cell_type": "code",
   "execution_count": 8,
   "id": "c89bff03",
   "metadata": {
    "execution": {
     "iopub.execute_input": "2023-10-27T10:51:09.491872Z",
     "iopub.status.busy": "2023-10-27T10:51:09.491361Z",
     "iopub.status.idle": "2023-10-27T10:51:09.563818Z",
     "shell.execute_reply": "2023-10-27T10:51:09.562300Z"
    },
    "id": "r14M24aMdzoY",
    "papermill": {
     "duration": 0.091903,
     "end_time": "2023-10-27T10:51:09.566904",
     "exception": false,
     "start_time": "2023-10-27T10:51:09.475001",
     "status": "completed"
    },
    "tags": []
   },
   "outputs": [],
   "source": [
    "#seperating the data for analaysis\n",
    "legit=credit_card_data[credit_card_data.Class==0]\n",
    "fraud=credit_card_data[credit_card_data.Class==1]"
   ]
  },
  {
   "cell_type": "code",
   "execution_count": 9,
   "id": "dc3f7dac",
   "metadata": {
    "execution": {
     "iopub.execute_input": "2023-10-27T10:51:09.599508Z",
     "iopub.status.busy": "2023-10-27T10:51:09.598990Z",
     "iopub.status.idle": "2023-10-27T10:51:09.604961Z",
     "shell.execute_reply": "2023-10-27T10:51:09.603826Z"
    },
    "id": "-mgguoafe6T6",
    "outputId": "c1a9a8b8-b617-4527-a540-606ae1315a0e",
    "papermill": {
     "duration": 0.026249,
     "end_time": "2023-10-27T10:51:09.608224",
     "exception": false,
     "start_time": "2023-10-27T10:51:09.581975",
     "status": "completed"
    },
    "tags": []
   },
   "outputs": [
    {
     "name": "stdout",
     "output_type": "stream",
     "text": [
      "(284315, 31)\n",
      "(492, 31)\n"
     ]
    }
   ],
   "source": [
    "print(legit.shape)\n",
    "print(fraud.shape)"
   ]
  },
  {
   "cell_type": "code",
   "execution_count": 10,
   "id": "88e47bd0",
   "metadata": {
    "execution": {
     "iopub.execute_input": "2023-10-27T10:51:09.639250Z",
     "iopub.status.busy": "2023-10-27T10:51:09.638787Z",
     "iopub.status.idle": "2023-10-27T10:51:09.665487Z",
     "shell.execute_reply": "2023-10-27T10:51:09.663928Z"
    },
    "id": "v5CH1TC2e-qd",
    "outputId": "1a369d0e-d4c3-48c8-fcfd-1e9de23d270a",
    "papermill": {
     "duration": 0.04573,
     "end_time": "2023-10-27T10:51:09.668429",
     "exception": false,
     "start_time": "2023-10-27T10:51:09.622699",
     "status": "completed"
    },
    "tags": []
   },
   "outputs": [
    {
     "data": {
      "text/plain": [
       "count    284315.000000\n",
       "mean         88.291022\n",
       "std         250.105092\n",
       "min           0.000000\n",
       "25%           5.650000\n",
       "50%          22.000000\n",
       "75%          77.050000\n",
       "max       25691.160000\n",
       "Name: Amount, dtype: float64"
      ]
     },
     "execution_count": 10,
     "metadata": {},
     "output_type": "execute_result"
    }
   ],
   "source": [
    "#statistical measures of the data\n",
    "legit.Amount.describe()"
   ]
  },
  {
   "cell_type": "code",
   "execution_count": 11,
   "id": "3b413820",
   "metadata": {
    "execution": {
     "iopub.execute_input": "2023-10-27T10:51:09.700253Z",
     "iopub.status.busy": "2023-10-27T10:51:09.699756Z",
     "iopub.status.idle": "2023-10-27T10:51:09.713546Z",
     "shell.execute_reply": "2023-10-27T10:51:09.711926Z"
    },
    "id": "vRrFYIjXfihl",
    "outputId": "9cc9f327-7ac8-4a0a-e5b0-fce4ae3ad4a6",
    "papermill": {
     "duration": 0.03293,
     "end_time": "2023-10-27T10:51:09.716245",
     "exception": false,
     "start_time": "2023-10-27T10:51:09.683315",
     "status": "completed"
    },
    "tags": []
   },
   "outputs": [
    {
     "data": {
      "text/plain": [
       "count     492.000000\n",
       "mean      122.211321\n",
       "std       256.683288\n",
       "min         0.000000\n",
       "25%         1.000000\n",
       "50%         9.250000\n",
       "75%       105.890000\n",
       "max      2125.870000\n",
       "Name: Amount, dtype: float64"
      ]
     },
     "execution_count": 11,
     "metadata": {},
     "output_type": "execute_result"
    }
   ],
   "source": [
    "fraud.Amount.describe()"
   ]
  },
  {
   "cell_type": "code",
   "execution_count": 12,
   "id": "4acb98cd",
   "metadata": {
    "execution": {
     "iopub.execute_input": "2023-10-27T10:51:09.748449Z",
     "iopub.status.busy": "2023-10-27T10:51:09.747987Z",
     "iopub.status.idle": "2023-10-27T10:51:09.865314Z",
     "shell.execute_reply": "2023-10-27T10:51:09.863537Z"
    },
    "id": "mMxQE-Uzf1pE",
    "outputId": "bc3c20de-d330-48c2-87ca-c77419aabccb",
    "papermill": {
     "duration": 0.136835,
     "end_time": "2023-10-27T10:51:09.868062",
     "exception": false,
     "start_time": "2023-10-27T10:51:09.731227",
     "status": "completed"
    },
    "tags": []
   },
   "outputs": [
    {
     "data": {
      "text/html": [
       "<div>\n",
       "<style scoped>\n",
       "    .dataframe tbody tr th:only-of-type {\n",
       "        vertical-align: middle;\n",
       "    }\n",
       "\n",
       "    .dataframe tbody tr th {\n",
       "        vertical-align: top;\n",
       "    }\n",
       "\n",
       "    .dataframe thead th {\n",
       "        text-align: right;\n",
       "    }\n",
       "</style>\n",
       "<table border=\"1\" class=\"dataframe\">\n",
       "  <thead>\n",
       "    <tr style=\"text-align: right;\">\n",
       "      <th></th>\n",
       "      <th>Time</th>\n",
       "      <th>V1</th>\n",
       "      <th>V2</th>\n",
       "      <th>V3</th>\n",
       "      <th>V4</th>\n",
       "      <th>V5</th>\n",
       "      <th>V6</th>\n",
       "      <th>V7</th>\n",
       "      <th>V8</th>\n",
       "      <th>V9</th>\n",
       "      <th>...</th>\n",
       "      <th>V20</th>\n",
       "      <th>V21</th>\n",
       "      <th>V22</th>\n",
       "      <th>V23</th>\n",
       "      <th>V24</th>\n",
       "      <th>V25</th>\n",
       "      <th>V26</th>\n",
       "      <th>V27</th>\n",
       "      <th>V28</th>\n",
       "      <th>Amount</th>\n",
       "    </tr>\n",
       "    <tr>\n",
       "      <th>Class</th>\n",
       "      <th></th>\n",
       "      <th></th>\n",
       "      <th></th>\n",
       "      <th></th>\n",
       "      <th></th>\n",
       "      <th></th>\n",
       "      <th></th>\n",
       "      <th></th>\n",
       "      <th></th>\n",
       "      <th></th>\n",
       "      <th></th>\n",
       "      <th></th>\n",
       "      <th></th>\n",
       "      <th></th>\n",
       "      <th></th>\n",
       "      <th></th>\n",
       "      <th></th>\n",
       "      <th></th>\n",
       "      <th></th>\n",
       "      <th></th>\n",
       "      <th></th>\n",
       "    </tr>\n",
       "  </thead>\n",
       "  <tbody>\n",
       "    <tr>\n",
       "      <th>0</th>\n",
       "      <td>94838.202258</td>\n",
       "      <td>0.008258</td>\n",
       "      <td>-0.006271</td>\n",
       "      <td>0.012171</td>\n",
       "      <td>-0.007860</td>\n",
       "      <td>0.005453</td>\n",
       "      <td>0.002419</td>\n",
       "      <td>0.009637</td>\n",
       "      <td>-0.000987</td>\n",
       "      <td>0.004467</td>\n",
       "      <td>...</td>\n",
       "      <td>-0.000644</td>\n",
       "      <td>-0.001235</td>\n",
       "      <td>-0.000024</td>\n",
       "      <td>0.000070</td>\n",
       "      <td>0.000182</td>\n",
       "      <td>-0.000072</td>\n",
       "      <td>-0.000089</td>\n",
       "      <td>-0.000295</td>\n",
       "      <td>-0.000131</td>\n",
       "      <td>88.291022</td>\n",
       "    </tr>\n",
       "    <tr>\n",
       "      <th>1</th>\n",
       "      <td>80746.806911</td>\n",
       "      <td>-4.771948</td>\n",
       "      <td>3.623778</td>\n",
       "      <td>-7.033281</td>\n",
       "      <td>4.542029</td>\n",
       "      <td>-3.151225</td>\n",
       "      <td>-1.397737</td>\n",
       "      <td>-5.568731</td>\n",
       "      <td>0.570636</td>\n",
       "      <td>-2.581123</td>\n",
       "      <td>...</td>\n",
       "      <td>0.372319</td>\n",
       "      <td>0.713588</td>\n",
       "      <td>0.014049</td>\n",
       "      <td>-0.040308</td>\n",
       "      <td>-0.105130</td>\n",
       "      <td>0.041449</td>\n",
       "      <td>0.051648</td>\n",
       "      <td>0.170575</td>\n",
       "      <td>0.075667</td>\n",
       "      <td>122.211321</td>\n",
       "    </tr>\n",
       "  </tbody>\n",
       "</table>\n",
       "<p>2 rows × 30 columns</p>\n",
       "</div>"
      ],
      "text/plain": [
       "               Time        V1        V2        V3        V4        V5  \\\n",
       "Class                                                                   \n",
       "0      94838.202258  0.008258 -0.006271  0.012171 -0.007860  0.005453   \n",
       "1      80746.806911 -4.771948  3.623778 -7.033281  4.542029 -3.151225   \n",
       "\n",
       "             V6        V7        V8        V9  ...       V20       V21  \\\n",
       "Class                                          ...                       \n",
       "0      0.002419  0.009637 -0.000987  0.004467  ... -0.000644 -0.001235   \n",
       "1     -1.397737 -5.568731  0.570636 -2.581123  ...  0.372319  0.713588   \n",
       "\n",
       "            V22       V23       V24       V25       V26       V27       V28  \\\n",
       "Class                                                                         \n",
       "0     -0.000024  0.000070  0.000182 -0.000072 -0.000089 -0.000295 -0.000131   \n",
       "1      0.014049 -0.040308 -0.105130  0.041449  0.051648  0.170575  0.075667   \n",
       "\n",
       "           Amount  \n",
       "Class              \n",
       "0       88.291022  \n",
       "1      122.211321  \n",
       "\n",
       "[2 rows x 30 columns]"
      ]
     },
     "execution_count": 12,
     "metadata": {},
     "output_type": "execute_result"
    }
   ],
   "source": [
    "#compare the values for both transaction\n",
    "credit_card_data.groupby('Class').mean()"
   ]
  },
  {
   "cell_type": "code",
   "execution_count": 13,
   "id": "35907c3a",
   "metadata": {
    "execution": {
     "iopub.execute_input": "2023-10-27T10:51:09.960819Z",
     "iopub.status.busy": "2023-10-27T10:51:09.960335Z",
     "iopub.status.idle": "2023-10-27T10:51:09.975854Z",
     "shell.execute_reply": "2023-10-27T10:51:09.974523Z"
    },
    "id": "wDE2lnMaghaj",
    "papermill": {
     "duration": 0.034749,
     "end_time": "2023-10-27T10:51:09.978303",
     "exception": false,
     "start_time": "2023-10-27T10:51:09.943554",
     "status": "completed"
    },
    "tags": []
   },
   "outputs": [],
   "source": [
    "legit_sample=legit.sample(n=367)"
   ]
  },
  {
   "cell_type": "markdown",
   "id": "f52c789c",
   "metadata": {
    "id": "i8j_-PaFhyTq",
    "papermill": {
     "duration": 0.01553,
     "end_time": "2023-10-27T10:51:10.009026",
     "exception": false,
     "start_time": "2023-10-27T10:51:09.993496",
     "status": "completed"
    },
    "tags": []
   },
   "source": [
    "Concenating the two dataframes"
   ]
  },
  {
   "cell_type": "code",
   "execution_count": 14,
   "id": "7527fccb",
   "metadata": {
    "execution": {
     "iopub.execute_input": "2023-10-27T10:51:10.042127Z",
     "iopub.status.busy": "2023-10-27T10:51:10.041046Z",
     "iopub.status.idle": "2023-10-27T10:51:10.047373Z",
     "shell.execute_reply": "2023-10-27T10:51:10.046426Z"
    },
    "id": "5MVXN7khhw2T",
    "papermill": {
     "duration": 0.025249,
     "end_time": "2023-10-27T10:51:10.049842",
     "exception": false,
     "start_time": "2023-10-27T10:51:10.024593",
     "status": "completed"
    },
    "tags": []
   },
   "outputs": [],
   "source": [
    "new_dataset=pd.concat([legit_sample,fraud],axis=0)"
   ]
  },
  {
   "cell_type": "code",
   "execution_count": 15,
   "id": "8d014a6e",
   "metadata": {
    "execution": {
     "iopub.execute_input": "2023-10-27T10:51:10.082153Z",
     "iopub.status.busy": "2023-10-27T10:51:10.081735Z",
     "iopub.status.idle": "2023-10-27T10:51:10.110572Z",
     "shell.execute_reply": "2023-10-27T10:51:10.109519Z"
    },
    "id": "cz2YjTx4iNg_",
    "outputId": "2c8741f7-b997-42da-8c4c-68d9225c06c5",
    "papermill": {
     "duration": 0.048406,
     "end_time": "2023-10-27T10:51:10.113563",
     "exception": false,
     "start_time": "2023-10-27T10:51:10.065157",
     "status": "completed"
    },
    "tags": []
   },
   "outputs": [
    {
     "data": {
      "text/html": [
       "<div>\n",
       "<style scoped>\n",
       "    .dataframe tbody tr th:only-of-type {\n",
       "        vertical-align: middle;\n",
       "    }\n",
       "\n",
       "    .dataframe tbody tr th {\n",
       "        vertical-align: top;\n",
       "    }\n",
       "\n",
       "    .dataframe thead th {\n",
       "        text-align: right;\n",
       "    }\n",
       "</style>\n",
       "<table border=\"1\" class=\"dataframe\">\n",
       "  <thead>\n",
       "    <tr style=\"text-align: right;\">\n",
       "      <th></th>\n",
       "      <th>Time</th>\n",
       "      <th>V1</th>\n",
       "      <th>V2</th>\n",
       "      <th>V3</th>\n",
       "      <th>V4</th>\n",
       "      <th>V5</th>\n",
       "      <th>V6</th>\n",
       "      <th>V7</th>\n",
       "      <th>V8</th>\n",
       "      <th>V9</th>\n",
       "      <th>...</th>\n",
       "      <th>V21</th>\n",
       "      <th>V22</th>\n",
       "      <th>V23</th>\n",
       "      <th>V24</th>\n",
       "      <th>V25</th>\n",
       "      <th>V26</th>\n",
       "      <th>V27</th>\n",
       "      <th>V28</th>\n",
       "      <th>Amount</th>\n",
       "      <th>Class</th>\n",
       "    </tr>\n",
       "  </thead>\n",
       "  <tbody>\n",
       "    <tr>\n",
       "      <th>139501</th>\n",
       "      <td>83182.0</td>\n",
       "      <td>1.336653</td>\n",
       "      <td>-1.070393</td>\n",
       "      <td>0.331695</td>\n",
       "      <td>-2.827287</td>\n",
       "      <td>-1.415840</td>\n",
       "      <td>-0.948631</td>\n",
       "      <td>-0.707505</td>\n",
       "      <td>-0.250862</td>\n",
       "      <td>0.879825</td>\n",
       "      <td>...</td>\n",
       "      <td>-0.303768</td>\n",
       "      <td>-0.288932</td>\n",
       "      <td>-0.096153</td>\n",
       "      <td>-0.124982</td>\n",
       "      <td>0.490217</td>\n",
       "      <td>-0.807276</td>\n",
       "      <td>0.115971</td>\n",
       "      <td>0.047594</td>\n",
       "      <td>64.74</td>\n",
       "      <td>0</td>\n",
       "    </tr>\n",
       "    <tr>\n",
       "      <th>62523</th>\n",
       "      <td>50301.0</td>\n",
       "      <td>1.123883</td>\n",
       "      <td>0.122591</td>\n",
       "      <td>0.977098</td>\n",
       "      <td>1.276137</td>\n",
       "      <td>-0.709095</td>\n",
       "      <td>-0.396531</td>\n",
       "      <td>-0.322321</td>\n",
       "      <td>0.111340</td>\n",
       "      <td>0.348944</td>\n",
       "      <td>...</td>\n",
       "      <td>-0.082154</td>\n",
       "      <td>-0.266809</td>\n",
       "      <td>0.165254</td>\n",
       "      <td>0.341344</td>\n",
       "      <td>0.148635</td>\n",
       "      <td>-0.535596</td>\n",
       "      <td>0.050854</td>\n",
       "      <td>0.034621</td>\n",
       "      <td>10.00</td>\n",
       "      <td>0</td>\n",
       "    </tr>\n",
       "    <tr>\n",
       "      <th>94374</th>\n",
       "      <td>64853.0</td>\n",
       "      <td>-0.423702</td>\n",
       "      <td>0.639498</td>\n",
       "      <td>1.029189</td>\n",
       "      <td>1.470529</td>\n",
       "      <td>0.662255</td>\n",
       "      <td>-0.137286</td>\n",
       "      <td>0.341785</td>\n",
       "      <td>-0.068838</td>\n",
       "      <td>-0.684221</td>\n",
       "      <td>...</td>\n",
       "      <td>0.141513</td>\n",
       "      <td>0.538971</td>\n",
       "      <td>-0.199664</td>\n",
       "      <td>-0.232792</td>\n",
       "      <td>-0.142363</td>\n",
       "      <td>-0.105021</td>\n",
       "      <td>0.045797</td>\n",
       "      <td>0.065404</td>\n",
       "      <td>28.86</td>\n",
       "      <td>0</td>\n",
       "    </tr>\n",
       "    <tr>\n",
       "      <th>25334</th>\n",
       "      <td>33565.0</td>\n",
       "      <td>-1.829043</td>\n",
       "      <td>1.724010</td>\n",
       "      <td>1.205678</td>\n",
       "      <td>-0.872747</td>\n",
       "      <td>0.043297</td>\n",
       "      <td>0.302666</td>\n",
       "      <td>0.175006</td>\n",
       "      <td>-3.266219</td>\n",
       "      <td>-0.258880</td>\n",
       "      <td>...</td>\n",
       "      <td>2.604712</td>\n",
       "      <td>-2.148888</td>\n",
       "      <td>0.515509</td>\n",
       "      <td>0.105531</td>\n",
       "      <td>-0.383742</td>\n",
       "      <td>-0.176718</td>\n",
       "      <td>0.172040</td>\n",
       "      <td>-0.050502</td>\n",
       "      <td>55.50</td>\n",
       "      <td>0</td>\n",
       "    </tr>\n",
       "    <tr>\n",
       "      <th>42234</th>\n",
       "      <td>41010.0</td>\n",
       "      <td>1.106001</td>\n",
       "      <td>0.401872</td>\n",
       "      <td>1.101056</td>\n",
       "      <td>2.876592</td>\n",
       "      <td>-0.614203</td>\n",
       "      <td>-0.451422</td>\n",
       "      <td>-0.028095</td>\n",
       "      <td>-0.054201</td>\n",
       "      <td>-0.251292</td>\n",
       "      <td>...</td>\n",
       "      <td>-0.039173</td>\n",
       "      <td>0.067497</td>\n",
       "      <td>-0.021442</td>\n",
       "      <td>0.934925</td>\n",
       "      <td>0.555447</td>\n",
       "      <td>0.043715</td>\n",
       "      <td>0.008830</td>\n",
       "      <td>0.027160</td>\n",
       "      <td>11.35</td>\n",
       "      <td>0</td>\n",
       "    </tr>\n",
       "  </tbody>\n",
       "</table>\n",
       "<p>5 rows × 31 columns</p>\n",
       "</div>"
      ],
      "text/plain": [
       "           Time        V1        V2        V3        V4        V5        V6  \\\n",
       "139501  83182.0  1.336653 -1.070393  0.331695 -2.827287 -1.415840 -0.948631   \n",
       "62523   50301.0  1.123883  0.122591  0.977098  1.276137 -0.709095 -0.396531   \n",
       "94374   64853.0 -0.423702  0.639498  1.029189  1.470529  0.662255 -0.137286   \n",
       "25334   33565.0 -1.829043  1.724010  1.205678 -0.872747  0.043297  0.302666   \n",
       "42234   41010.0  1.106001  0.401872  1.101056  2.876592 -0.614203 -0.451422   \n",
       "\n",
       "              V7        V8        V9  ...       V21       V22       V23  \\\n",
       "139501 -0.707505 -0.250862  0.879825  ... -0.303768 -0.288932 -0.096153   \n",
       "62523  -0.322321  0.111340  0.348944  ... -0.082154 -0.266809  0.165254   \n",
       "94374   0.341785 -0.068838 -0.684221  ...  0.141513  0.538971 -0.199664   \n",
       "25334   0.175006 -3.266219 -0.258880  ...  2.604712 -2.148888  0.515509   \n",
       "42234  -0.028095 -0.054201 -0.251292  ... -0.039173  0.067497 -0.021442   \n",
       "\n",
       "             V24       V25       V26       V27       V28  Amount  Class  \n",
       "139501 -0.124982  0.490217 -0.807276  0.115971  0.047594   64.74      0  \n",
       "62523   0.341344  0.148635 -0.535596  0.050854  0.034621   10.00      0  \n",
       "94374  -0.232792 -0.142363 -0.105021  0.045797  0.065404   28.86      0  \n",
       "25334   0.105531 -0.383742 -0.176718  0.172040 -0.050502   55.50      0  \n",
       "42234   0.934925  0.555447  0.043715  0.008830  0.027160   11.35      0  \n",
       "\n",
       "[5 rows x 31 columns]"
      ]
     },
     "execution_count": 15,
     "metadata": {},
     "output_type": "execute_result"
    }
   ],
   "source": [
    "new_dataset.head()"
   ]
  },
  {
   "cell_type": "code",
   "execution_count": 16,
   "id": "be6f6d8d",
   "metadata": {
    "execution": {
     "iopub.execute_input": "2023-10-27T10:51:10.147839Z",
     "iopub.status.busy": "2023-10-27T10:51:10.147371Z",
     "iopub.status.idle": "2023-10-27T10:51:10.182116Z",
     "shell.execute_reply": "2023-10-27T10:51:10.180591Z"
    },
    "id": "OqvKuYgWiRYm",
    "outputId": "6f4ed644-f71c-4e5f-92fe-931cdc4e1f9d",
    "papermill": {
     "duration": 0.054837,
     "end_time": "2023-10-27T10:51:10.184961",
     "exception": false,
     "start_time": "2023-10-27T10:51:10.130124",
     "status": "completed"
    },
    "tags": []
   },
   "outputs": [
    {
     "data": {
      "text/html": [
       "<div>\n",
       "<style scoped>\n",
       "    .dataframe tbody tr th:only-of-type {\n",
       "        vertical-align: middle;\n",
       "    }\n",
       "\n",
       "    .dataframe tbody tr th {\n",
       "        vertical-align: top;\n",
       "    }\n",
       "\n",
       "    .dataframe thead th {\n",
       "        text-align: right;\n",
       "    }\n",
       "</style>\n",
       "<table border=\"1\" class=\"dataframe\">\n",
       "  <thead>\n",
       "    <tr style=\"text-align: right;\">\n",
       "      <th></th>\n",
       "      <th>Time</th>\n",
       "      <th>V1</th>\n",
       "      <th>V2</th>\n",
       "      <th>V3</th>\n",
       "      <th>V4</th>\n",
       "      <th>V5</th>\n",
       "      <th>V6</th>\n",
       "      <th>V7</th>\n",
       "      <th>V8</th>\n",
       "      <th>V9</th>\n",
       "      <th>...</th>\n",
       "      <th>V21</th>\n",
       "      <th>V22</th>\n",
       "      <th>V23</th>\n",
       "      <th>V24</th>\n",
       "      <th>V25</th>\n",
       "      <th>V26</th>\n",
       "      <th>V27</th>\n",
       "      <th>V28</th>\n",
       "      <th>Amount</th>\n",
       "      <th>Class</th>\n",
       "    </tr>\n",
       "  </thead>\n",
       "  <tbody>\n",
       "    <tr>\n",
       "      <th>279863</th>\n",
       "      <td>169142.0</td>\n",
       "      <td>-1.927883</td>\n",
       "      <td>1.125653</td>\n",
       "      <td>-4.518331</td>\n",
       "      <td>1.749293</td>\n",
       "      <td>-1.566487</td>\n",
       "      <td>-2.010494</td>\n",
       "      <td>-0.882850</td>\n",
       "      <td>0.697211</td>\n",
       "      <td>-2.064945</td>\n",
       "      <td>...</td>\n",
       "      <td>0.778584</td>\n",
       "      <td>-0.319189</td>\n",
       "      <td>0.639419</td>\n",
       "      <td>-0.294885</td>\n",
       "      <td>0.537503</td>\n",
       "      <td>0.788395</td>\n",
       "      <td>0.292680</td>\n",
       "      <td>0.147968</td>\n",
       "      <td>390.00</td>\n",
       "      <td>1</td>\n",
       "    </tr>\n",
       "    <tr>\n",
       "      <th>280143</th>\n",
       "      <td>169347.0</td>\n",
       "      <td>1.378559</td>\n",
       "      <td>1.289381</td>\n",
       "      <td>-5.004247</td>\n",
       "      <td>1.411850</td>\n",
       "      <td>0.442581</td>\n",
       "      <td>-1.326536</td>\n",
       "      <td>-1.413170</td>\n",
       "      <td>0.248525</td>\n",
       "      <td>-1.127396</td>\n",
       "      <td>...</td>\n",
       "      <td>0.370612</td>\n",
       "      <td>0.028234</td>\n",
       "      <td>-0.145640</td>\n",
       "      <td>-0.081049</td>\n",
       "      <td>0.521875</td>\n",
       "      <td>0.739467</td>\n",
       "      <td>0.389152</td>\n",
       "      <td>0.186637</td>\n",
       "      <td>0.76</td>\n",
       "      <td>1</td>\n",
       "    </tr>\n",
       "    <tr>\n",
       "      <th>280149</th>\n",
       "      <td>169351.0</td>\n",
       "      <td>-0.676143</td>\n",
       "      <td>1.126366</td>\n",
       "      <td>-2.213700</td>\n",
       "      <td>0.468308</td>\n",
       "      <td>-1.120541</td>\n",
       "      <td>-0.003346</td>\n",
       "      <td>-2.234739</td>\n",
       "      <td>1.210158</td>\n",
       "      <td>-0.652250</td>\n",
       "      <td>...</td>\n",
       "      <td>0.751826</td>\n",
       "      <td>0.834108</td>\n",
       "      <td>0.190944</td>\n",
       "      <td>0.032070</td>\n",
       "      <td>-0.739695</td>\n",
       "      <td>0.471111</td>\n",
       "      <td>0.385107</td>\n",
       "      <td>0.194361</td>\n",
       "      <td>77.89</td>\n",
       "      <td>1</td>\n",
       "    </tr>\n",
       "    <tr>\n",
       "      <th>281144</th>\n",
       "      <td>169966.0</td>\n",
       "      <td>-3.113832</td>\n",
       "      <td>0.585864</td>\n",
       "      <td>-5.399730</td>\n",
       "      <td>1.817092</td>\n",
       "      <td>-0.840618</td>\n",
       "      <td>-2.943548</td>\n",
       "      <td>-2.208002</td>\n",
       "      <td>1.058733</td>\n",
       "      <td>-1.632333</td>\n",
       "      <td>...</td>\n",
       "      <td>0.583276</td>\n",
       "      <td>-0.269209</td>\n",
       "      <td>-0.456108</td>\n",
       "      <td>-0.183659</td>\n",
       "      <td>-0.328168</td>\n",
       "      <td>0.606116</td>\n",
       "      <td>0.884876</td>\n",
       "      <td>-0.253700</td>\n",
       "      <td>245.00</td>\n",
       "      <td>1</td>\n",
       "    </tr>\n",
       "    <tr>\n",
       "      <th>281674</th>\n",
       "      <td>170348.0</td>\n",
       "      <td>1.991976</td>\n",
       "      <td>0.158476</td>\n",
       "      <td>-2.583441</td>\n",
       "      <td>0.408670</td>\n",
       "      <td>1.151147</td>\n",
       "      <td>-0.096695</td>\n",
       "      <td>0.223050</td>\n",
       "      <td>-0.068384</td>\n",
       "      <td>0.577829</td>\n",
       "      <td>...</td>\n",
       "      <td>-0.164350</td>\n",
       "      <td>-0.295135</td>\n",
       "      <td>-0.072173</td>\n",
       "      <td>-0.450261</td>\n",
       "      <td>0.313267</td>\n",
       "      <td>-0.289617</td>\n",
       "      <td>0.002988</td>\n",
       "      <td>-0.015309</td>\n",
       "      <td>42.53</td>\n",
       "      <td>1</td>\n",
       "    </tr>\n",
       "  </tbody>\n",
       "</table>\n",
       "<p>5 rows × 31 columns</p>\n",
       "</div>"
      ],
      "text/plain": [
       "            Time        V1        V2        V3        V4        V5        V6  \\\n",
       "279863  169142.0 -1.927883  1.125653 -4.518331  1.749293 -1.566487 -2.010494   \n",
       "280143  169347.0  1.378559  1.289381 -5.004247  1.411850  0.442581 -1.326536   \n",
       "280149  169351.0 -0.676143  1.126366 -2.213700  0.468308 -1.120541 -0.003346   \n",
       "281144  169966.0 -3.113832  0.585864 -5.399730  1.817092 -0.840618 -2.943548   \n",
       "281674  170348.0  1.991976  0.158476 -2.583441  0.408670  1.151147 -0.096695   \n",
       "\n",
       "              V7        V8        V9  ...       V21       V22       V23  \\\n",
       "279863 -0.882850  0.697211 -2.064945  ...  0.778584 -0.319189  0.639419   \n",
       "280143 -1.413170  0.248525 -1.127396  ...  0.370612  0.028234 -0.145640   \n",
       "280149 -2.234739  1.210158 -0.652250  ...  0.751826  0.834108  0.190944   \n",
       "281144 -2.208002  1.058733 -1.632333  ...  0.583276 -0.269209 -0.456108   \n",
       "281674  0.223050 -0.068384  0.577829  ... -0.164350 -0.295135 -0.072173   \n",
       "\n",
       "             V24       V25       V26       V27       V28  Amount  Class  \n",
       "279863 -0.294885  0.537503  0.788395  0.292680  0.147968  390.00      1  \n",
       "280143 -0.081049  0.521875  0.739467  0.389152  0.186637    0.76      1  \n",
       "280149  0.032070 -0.739695  0.471111  0.385107  0.194361   77.89      1  \n",
       "281144 -0.183659 -0.328168  0.606116  0.884876 -0.253700  245.00      1  \n",
       "281674 -0.450261  0.313267 -0.289617  0.002988 -0.015309   42.53      1  \n",
       "\n",
       "[5 rows x 31 columns]"
      ]
     },
     "execution_count": 16,
     "metadata": {},
     "output_type": "execute_result"
    }
   ],
   "source": [
    "new_dataset.tail()"
   ]
  },
  {
   "cell_type": "code",
   "execution_count": 17,
   "id": "9186515c",
   "metadata": {
    "execution": {
     "iopub.execute_input": "2023-10-27T10:51:10.318967Z",
     "iopub.status.busy": "2023-10-27T10:51:10.318495Z",
     "iopub.status.idle": "2023-10-27T10:51:10.329028Z",
     "shell.execute_reply": "2023-10-27T10:51:10.327525Z"
    },
    "id": "0eC_4IgPibIv",
    "outputId": "e033111b-a1e7-46ff-ce91-e0dfcd71d663",
    "papermill": {
     "duration": 0.030932,
     "end_time": "2023-10-27T10:51:10.331520",
     "exception": false,
     "start_time": "2023-10-27T10:51:10.300588",
     "status": "completed"
    },
    "tags": []
   },
   "outputs": [
    {
     "data": {
      "text/plain": [
       "Class\n",
       "1    492\n",
       "0    367\n",
       "Name: count, dtype: int64"
      ]
     },
     "execution_count": 17,
     "metadata": {},
     "output_type": "execute_result"
    }
   ],
   "source": [
    "new_dataset['Class'].value_counts()"
   ]
  },
  {
   "cell_type": "code",
   "execution_count": 18,
   "id": "4ab4ee1b",
   "metadata": {
    "execution": {
     "iopub.execute_input": "2023-10-27T10:51:10.366666Z",
     "iopub.status.busy": "2023-10-27T10:51:10.366234Z",
     "iopub.status.idle": "2023-10-27T10:51:10.394615Z",
     "shell.execute_reply": "2023-10-27T10:51:10.393469Z"
    },
    "id": "gntx7CSrimcw",
    "outputId": "ad15252c-9458-4e79-c1ae-2aabacd555f2",
    "papermill": {
     "duration": 0.049233,
     "end_time": "2023-10-27T10:51:10.397070",
     "exception": false,
     "start_time": "2023-10-27T10:51:10.347837",
     "status": "completed"
    },
    "tags": []
   },
   "outputs": [
    {
     "data": {
      "text/html": [
       "<div>\n",
       "<style scoped>\n",
       "    .dataframe tbody tr th:only-of-type {\n",
       "        vertical-align: middle;\n",
       "    }\n",
       "\n",
       "    .dataframe tbody tr th {\n",
       "        vertical-align: top;\n",
       "    }\n",
       "\n",
       "    .dataframe thead th {\n",
       "        text-align: right;\n",
       "    }\n",
       "</style>\n",
       "<table border=\"1\" class=\"dataframe\">\n",
       "  <thead>\n",
       "    <tr style=\"text-align: right;\">\n",
       "      <th></th>\n",
       "      <th>Time</th>\n",
       "      <th>V1</th>\n",
       "      <th>V2</th>\n",
       "      <th>V3</th>\n",
       "      <th>V4</th>\n",
       "      <th>V5</th>\n",
       "      <th>V6</th>\n",
       "      <th>V7</th>\n",
       "      <th>V8</th>\n",
       "      <th>V9</th>\n",
       "      <th>...</th>\n",
       "      <th>V20</th>\n",
       "      <th>V21</th>\n",
       "      <th>V22</th>\n",
       "      <th>V23</th>\n",
       "      <th>V24</th>\n",
       "      <th>V25</th>\n",
       "      <th>V26</th>\n",
       "      <th>V27</th>\n",
       "      <th>V28</th>\n",
       "      <th>Amount</th>\n",
       "    </tr>\n",
       "    <tr>\n",
       "      <th>Class</th>\n",
       "      <th></th>\n",
       "      <th></th>\n",
       "      <th></th>\n",
       "      <th></th>\n",
       "      <th></th>\n",
       "      <th></th>\n",
       "      <th></th>\n",
       "      <th></th>\n",
       "      <th></th>\n",
       "      <th></th>\n",
       "      <th></th>\n",
       "      <th></th>\n",
       "      <th></th>\n",
       "      <th></th>\n",
       "      <th></th>\n",
       "      <th></th>\n",
       "      <th></th>\n",
       "      <th></th>\n",
       "      <th></th>\n",
       "      <th></th>\n",
       "      <th></th>\n",
       "    </tr>\n",
       "  </thead>\n",
       "  <tbody>\n",
       "    <tr>\n",
       "      <th>0</th>\n",
       "      <td>92853.280654</td>\n",
       "      <td>-0.161614</td>\n",
       "      <td>-0.077811</td>\n",
       "      <td>-0.094325</td>\n",
       "      <td>0.025060</td>\n",
       "      <td>0.067230</td>\n",
       "      <td>0.055597</td>\n",
       "      <td>0.036145</td>\n",
       "      <td>-0.006640</td>\n",
       "      <td>0.030283</td>\n",
       "      <td>...</td>\n",
       "      <td>0.054705</td>\n",
       "      <td>0.035288</td>\n",
       "      <td>0.028390</td>\n",
       "      <td>0.017985</td>\n",
       "      <td>0.035939</td>\n",
       "      <td>0.036605</td>\n",
       "      <td>-0.007902</td>\n",
       "      <td>0.008306</td>\n",
       "      <td>0.014369</td>\n",
       "      <td>115.292534</td>\n",
       "    </tr>\n",
       "    <tr>\n",
       "      <th>1</th>\n",
       "      <td>80746.806911</td>\n",
       "      <td>-4.771948</td>\n",
       "      <td>3.623778</td>\n",
       "      <td>-7.033281</td>\n",
       "      <td>4.542029</td>\n",
       "      <td>-3.151225</td>\n",
       "      <td>-1.397737</td>\n",
       "      <td>-5.568731</td>\n",
       "      <td>0.570636</td>\n",
       "      <td>-2.581123</td>\n",
       "      <td>...</td>\n",
       "      <td>0.372319</td>\n",
       "      <td>0.713588</td>\n",
       "      <td>0.014049</td>\n",
       "      <td>-0.040308</td>\n",
       "      <td>-0.105130</td>\n",
       "      <td>0.041449</td>\n",
       "      <td>0.051648</td>\n",
       "      <td>0.170575</td>\n",
       "      <td>0.075667</td>\n",
       "      <td>122.211321</td>\n",
       "    </tr>\n",
       "  </tbody>\n",
       "</table>\n",
       "<p>2 rows × 30 columns</p>\n",
       "</div>"
      ],
      "text/plain": [
       "               Time        V1        V2        V3        V4        V5  \\\n",
       "Class                                                                   \n",
       "0      92853.280654 -0.161614 -0.077811 -0.094325  0.025060  0.067230   \n",
       "1      80746.806911 -4.771948  3.623778 -7.033281  4.542029 -3.151225   \n",
       "\n",
       "             V6        V7        V8        V9  ...       V20       V21  \\\n",
       "Class                                          ...                       \n",
       "0      0.055597  0.036145 -0.006640  0.030283  ...  0.054705  0.035288   \n",
       "1     -1.397737 -5.568731  0.570636 -2.581123  ...  0.372319  0.713588   \n",
       "\n",
       "            V22       V23       V24       V25       V26       V27       V28  \\\n",
       "Class                                                                         \n",
       "0      0.028390  0.017985  0.035939  0.036605 -0.007902  0.008306  0.014369   \n",
       "1      0.014049 -0.040308 -0.105130  0.041449  0.051648  0.170575  0.075667   \n",
       "\n",
       "           Amount  \n",
       "Class              \n",
       "0      115.292534  \n",
       "1      122.211321  \n",
       "\n",
       "[2 rows x 30 columns]"
      ]
     },
     "execution_count": 18,
     "metadata": {},
     "output_type": "execute_result"
    }
   ],
   "source": [
    "new_dataset.groupby(\"Class\").mean()"
   ]
  },
  {
   "cell_type": "code",
   "execution_count": 19,
   "id": "cc6530c7",
   "metadata": {
    "execution": {
     "iopub.execute_input": "2023-10-27T10:51:10.463902Z",
     "iopub.status.busy": "2023-10-27T10:51:10.463527Z",
     "iopub.status.idle": "2023-10-27T10:51:10.470158Z",
     "shell.execute_reply": "2023-10-27T10:51:10.468750Z"
    },
    "id": "Q-kv-soTi0IV",
    "papermill": {
     "duration": 0.027408,
     "end_time": "2023-10-27T10:51:10.473122",
     "exception": false,
     "start_time": "2023-10-27T10:51:10.445714",
     "status": "completed"
    },
    "tags": []
   },
   "outputs": [],
   "source": [
    "x=new_dataset.drop(columns='Class',axis=1)\n",
    "y=new_dataset['Class']"
   ]
  },
  {
   "cell_type": "code",
   "execution_count": 20,
   "id": "d4fe96bf",
   "metadata": {
    "execution": {
     "iopub.execute_input": "2023-10-27T10:51:10.507756Z",
     "iopub.status.busy": "2023-10-27T10:51:10.507363Z",
     "iopub.status.idle": "2023-10-27T10:51:10.514367Z",
     "shell.execute_reply": "2023-10-27T10:51:10.513293Z"
    },
    "id": "Osj7NpUPjpqd",
    "outputId": "03fec386-5cad-4b9d-be0e-a9c7974072dd",
    "papermill": {
     "duration": 0.027834,
     "end_time": "2023-10-27T10:51:10.517283",
     "exception": false,
     "start_time": "2023-10-27T10:51:10.489449",
     "status": "completed"
    },
    "tags": []
   },
   "outputs": [
    {
     "name": "stdout",
     "output_type": "stream",
     "text": [
      "139501    0\n",
      "62523     0\n",
      "94374     0\n",
      "25334     0\n",
      "42234     0\n",
      "         ..\n",
      "279863    1\n",
      "280143    1\n",
      "280149    1\n",
      "281144    1\n",
      "281674    1\n",
      "Name: Class, Length: 859, dtype: int64\n"
     ]
    }
   ],
   "source": [
    "print(y)"
   ]
  },
  {
   "cell_type": "markdown",
   "id": "a1e9468b",
   "metadata": {
    "id": "Thexx03XjwGx",
    "papermill": {
     "duration": 0.01583,
     "end_time": "2023-10-27T10:51:10.549573",
     "exception": false,
     "start_time": "2023-10-27T10:51:10.533743",
     "status": "completed"
    },
    "tags": []
   },
   "source": [
    "Split the data into train and test data\n",
    "    "
   ]
  },
  {
   "cell_type": "code",
   "execution_count": 21,
   "id": "e891ab4c",
   "metadata": {
    "execution": {
     "iopub.execute_input": "2023-10-27T10:51:10.584268Z",
     "iopub.status.busy": "2023-10-27T10:51:10.583738Z",
     "iopub.status.idle": "2023-10-27T10:51:10.594153Z",
     "shell.execute_reply": "2023-10-27T10:51:10.592730Z"
    },
    "id": "_vNuvoEljrbE",
    "papermill": {
     "duration": 0.030937,
     "end_time": "2023-10-27T10:51:10.596882",
     "exception": false,
     "start_time": "2023-10-27T10:51:10.565945",
     "status": "completed"
    },
    "tags": []
   },
   "outputs": [],
   "source": [
    "x_train,x_test,y_train,y_test=train_test_split(x,y,test_size=0.2,random_state=2)"
   ]
  },
  {
   "cell_type": "code",
   "execution_count": 22,
   "id": "b901932a",
   "metadata": {
    "execution": {
     "iopub.execute_input": "2023-10-27T10:51:10.632582Z",
     "iopub.status.busy": "2023-10-27T10:51:10.632101Z",
     "iopub.status.idle": "2023-10-27T10:51:10.639512Z",
     "shell.execute_reply": "2023-10-27T10:51:10.638068Z"
    },
    "id": "0XeIz21Aksah",
    "outputId": "1bb23657-078e-44de-8d75-b7482236d019",
    "papermill": {
     "duration": 0.028574,
     "end_time": "2023-10-27T10:51:10.642206",
     "exception": false,
     "start_time": "2023-10-27T10:51:10.613632",
     "status": "completed"
    },
    "tags": []
   },
   "outputs": [
    {
     "name": "stdout",
     "output_type": "stream",
     "text": [
      "(859, 30) (687, 30) (172, 30)\n"
     ]
    }
   ],
   "source": [
    "print(x.shape,x_train.shape,x_test.shape)"
   ]
  },
  {
   "cell_type": "code",
   "execution_count": 23,
   "id": "dd9549f9",
   "metadata": {
    "execution": {
     "iopub.execute_input": "2023-10-27T10:51:10.753823Z",
     "iopub.status.busy": "2023-10-27T10:51:10.753357Z",
     "iopub.status.idle": "2023-10-27T10:51:10.822943Z",
     "shell.execute_reply": "2023-10-27T10:51:10.821466Z"
    },
    "id": "FxkiNBvhnDI6",
    "outputId": "3e47bcb4-43ee-4f5f-95b8-26332fbf8b15",
    "papermill": {
     "duration": 0.091779,
     "end_time": "2023-10-27T10:51:10.827330",
     "exception": false,
     "start_time": "2023-10-27T10:51:10.735551",
     "status": "completed"
    },
    "tags": []
   },
   "outputs": [
    {
     "data": {
      "text/html": [
       "<style>#sk-container-id-1 {color: black;}#sk-container-id-1 pre{padding: 0;}#sk-container-id-1 div.sk-toggleable {background-color: white;}#sk-container-id-1 label.sk-toggleable__label {cursor: pointer;display: block;width: 100%;margin-bottom: 0;padding: 0.3em;box-sizing: border-box;text-align: center;}#sk-container-id-1 label.sk-toggleable__label-arrow:before {content: \"▸\";float: left;margin-right: 0.25em;color: #696969;}#sk-container-id-1 label.sk-toggleable__label-arrow:hover:before {color: black;}#sk-container-id-1 div.sk-estimator:hover label.sk-toggleable__label-arrow:before {color: black;}#sk-container-id-1 div.sk-toggleable__content {max-height: 0;max-width: 0;overflow: hidden;text-align: left;background-color: #f0f8ff;}#sk-container-id-1 div.sk-toggleable__content pre {margin: 0.2em;color: black;border-radius: 0.25em;background-color: #f0f8ff;}#sk-container-id-1 input.sk-toggleable__control:checked~div.sk-toggleable__content {max-height: 200px;max-width: 100%;overflow: auto;}#sk-container-id-1 input.sk-toggleable__control:checked~label.sk-toggleable__label-arrow:before {content: \"▾\";}#sk-container-id-1 div.sk-estimator input.sk-toggleable__control:checked~label.sk-toggleable__label {background-color: #d4ebff;}#sk-container-id-1 div.sk-label input.sk-toggleable__control:checked~label.sk-toggleable__label {background-color: #d4ebff;}#sk-container-id-1 input.sk-hidden--visually {border: 0;clip: rect(1px 1px 1px 1px);clip: rect(1px, 1px, 1px, 1px);height: 1px;margin: -1px;overflow: hidden;padding: 0;position: absolute;width: 1px;}#sk-container-id-1 div.sk-estimator {font-family: monospace;background-color: #f0f8ff;border: 1px dotted black;border-radius: 0.25em;box-sizing: border-box;margin-bottom: 0.5em;}#sk-container-id-1 div.sk-estimator:hover {background-color: #d4ebff;}#sk-container-id-1 div.sk-parallel-item::after {content: \"\";width: 100%;border-bottom: 1px solid gray;flex-grow: 1;}#sk-container-id-1 div.sk-label:hover label.sk-toggleable__label {background-color: #d4ebff;}#sk-container-id-1 div.sk-serial::before {content: \"\";position: absolute;border-left: 1px solid gray;box-sizing: border-box;top: 0;bottom: 0;left: 50%;z-index: 0;}#sk-container-id-1 div.sk-serial {display: flex;flex-direction: column;align-items: center;background-color: white;padding-right: 0.2em;padding-left: 0.2em;position: relative;}#sk-container-id-1 div.sk-item {position: relative;z-index: 1;}#sk-container-id-1 div.sk-parallel {display: flex;align-items: stretch;justify-content: center;background-color: white;position: relative;}#sk-container-id-1 div.sk-item::before, #sk-container-id-1 div.sk-parallel-item::before {content: \"\";position: absolute;border-left: 1px solid gray;box-sizing: border-box;top: 0;bottom: 0;left: 50%;z-index: -1;}#sk-container-id-1 div.sk-parallel-item {display: flex;flex-direction: column;z-index: 1;position: relative;background-color: white;}#sk-container-id-1 div.sk-parallel-item:first-child::after {align-self: flex-end;width: 50%;}#sk-container-id-1 div.sk-parallel-item:last-child::after {align-self: flex-start;width: 50%;}#sk-container-id-1 div.sk-parallel-item:only-child::after {width: 0;}#sk-container-id-1 div.sk-dashed-wrapped {border: 1px dashed gray;margin: 0 0.4em 0.5em 0.4em;box-sizing: border-box;padding-bottom: 0.4em;background-color: white;}#sk-container-id-1 div.sk-label label {font-family: monospace;font-weight: bold;display: inline-block;line-height: 1.2em;}#sk-container-id-1 div.sk-label-container {text-align: center;}#sk-container-id-1 div.sk-container {/* jupyter's `normalize.less` sets `[hidden] { display: none; }` but bootstrap.min.css set `[hidden] { display: none !important; }` so we also need the `!important` here to be able to override the default hidden behavior on the sphinx rendered scikit-learn.org. See: https://github.com/scikit-learn/scikit-learn/issues/21755 */display: inline-block !important;position: relative;}#sk-container-id-1 div.sk-text-repr-fallback {display: none;}</style><div id=\"sk-container-id-1\" class=\"sk-top-container\"><div class=\"sk-text-repr-fallback\"><pre>LogisticRegression(max_iter=1000)</pre><b>In a Jupyter environment, please rerun this cell to show the HTML representation or trust the notebook. <br />On GitHub, the HTML representation is unable to render, please try loading this page with nbviewer.org.</b></div><div class=\"sk-container\" hidden><div class=\"sk-item\"><div class=\"sk-estimator sk-toggleable\"><input class=\"sk-toggleable__control sk-hidden--visually\" id=\"sk-estimator-id-1\" type=\"checkbox\" checked><label for=\"sk-estimator-id-1\" class=\"sk-toggleable__label sk-toggleable__label-arrow\">LogisticRegression</label><div class=\"sk-toggleable__content\"><pre>LogisticRegression(max_iter=1000)</pre></div></div></div></div></div>"
      ],
      "text/plain": [
       "LogisticRegression(max_iter=1000)"
      ]
     },
     "execution_count": 23,
     "metadata": {},
     "output_type": "execute_result"
    }
   ],
   "source": [
    "#training the data\n",
    "from sklearn.linear_model import LogisticRegression\n",
    "model = LogisticRegression(max_iter=1000)\n",
    "model.fit(x_train, y_train)"
   ]
  },
  {
   "cell_type": "code",
   "execution_count": 24,
   "id": "98dedfac",
   "metadata": {
    "execution": {
     "iopub.execute_input": "2023-10-27T10:51:11.497364Z",
     "iopub.status.busy": "2023-10-27T10:51:11.496531Z",
     "iopub.status.idle": "2023-10-27T10:51:11.521285Z",
     "shell.execute_reply": "2023-10-27T10:51:11.518924Z"
    },
    "id": "U19kK_OYqSIe",
    "papermill": {
     "duration": 0.073744,
     "end_time": "2023-10-27T10:51:11.526857",
     "exception": false,
     "start_time": "2023-10-27T10:51:11.453113",
     "status": "completed"
    },
    "tags": []
   },
   "outputs": [],
   "source": [
    "x_train_prediction=model.predict(x_train)\n",
    "training_data_accuracy=accuracy_score(x_train_prediction,y_train)"
   ]
  },
  {
   "cell_type": "code",
   "execution_count": 25,
   "id": "aad0d15e",
   "metadata": {
    "execution": {
     "iopub.execute_input": "2023-10-27T10:51:11.604494Z",
     "iopub.status.busy": "2023-10-27T10:51:11.603798Z",
     "iopub.status.idle": "2023-10-27T10:51:11.612251Z",
     "shell.execute_reply": "2023-10-27T10:51:11.610817Z"
    },
    "id": "JExLVXnPq0yo",
    "outputId": "e856335e-0aa5-44b9-bbae-106425ca9183",
    "papermill": {
     "duration": 0.058478,
     "end_time": "2023-10-27T10:51:11.623308",
     "exception": false,
     "start_time": "2023-10-27T10:51:11.564830",
     "status": "completed"
    },
    "tags": []
   },
   "outputs": [
    {
     "name": "stdout",
     "output_type": "stream",
     "text": [
      "Accuracy on training data: 0.9403202328966521\n"
     ]
    }
   ],
   "source": [
    "print('Accuracy on training data:',training_data_accuracy)"
   ]
  },
  {
   "cell_type": "code",
   "execution_count": 26,
   "id": "f195cb57",
   "metadata": {
    "execution": {
     "iopub.execute_input": "2023-10-27T10:51:11.663419Z",
     "iopub.status.busy": "2023-10-27T10:51:11.662989Z",
     "iopub.status.idle": "2023-10-27T10:51:11.672505Z",
     "shell.execute_reply": "2023-10-27T10:51:11.671532Z"
    },
    "id": "iTA1B9MgrAFD",
    "papermill": {
     "duration": 0.030516,
     "end_time": "2023-10-27T10:51:11.674839",
     "exception": false,
     "start_time": "2023-10-27T10:51:11.644323",
     "status": "completed"
    },
    "tags": []
   },
   "outputs": [],
   "source": [
    "#accuracy on test data\n",
    "x_test_prediction=model.predict(x_test)\n",
    "test_data_accuracy=accuracy_score(x_test_prediction,y_test)"
   ]
  },
  {
   "cell_type": "code",
   "execution_count": 27,
   "id": "0cad2253",
   "metadata": {
    "execution": {
     "iopub.execute_input": "2023-10-27T10:51:11.712514Z",
     "iopub.status.busy": "2023-10-27T10:51:11.711503Z",
     "iopub.status.idle": "2023-10-27T10:51:11.717994Z",
     "shell.execute_reply": "2023-10-27T10:51:11.716745Z"
    },
    "id": "9i-lA9zqr7AF",
    "outputId": "0b9cb248-ce04-45ed-a771-ed53d7ba803e",
    "papermill": {
     "duration": 0.028045,
     "end_time": "2023-10-27T10:51:11.720352",
     "exception": false,
     "start_time": "2023-10-27T10:51:11.692307",
     "status": "completed"
    },
    "tags": []
   },
   "outputs": [
    {
     "name": "stdout",
     "output_type": "stream",
     "text": [
      "Accuracy on Test data: 0.9244186046511628\n"
     ]
    }
   ],
   "source": [
    "print(\"Accuracy on Test data:\",test_data_accuracy)"
   ]
  }
 ],
 "metadata": {
  "kernelspec": {
   "display_name": "Python 3 (ipykernel)",
   "language": "python",
   "name": "python3"
  },
  "language_info": {
   "codemirror_mode": {
    "name": "ipython",
    "version": 3
   },
   "file_extension": ".py",
   "mimetype": "text/x-python",
   "name": "python",
   "nbconvert_exporter": "python",
   "pygments_lexer": "ipython3",
   "version": "3.11.5"
  },
  "papermill": {
   "default_parameters": {},
   "duration": 14.938361,
   "end_time": "2023-10-27T10:51:12.561138",
   "environment_variables": {},
   "exception": null,
   "input_path": "__notebook__.ipynb",
   "output_path": "__notebook__.ipynb",
   "parameters": {},
   "start_time": "2023-10-27T10:50:57.622777",
   "version": "2.4.0"
  }
 },
 "nbformat": 4,
 "nbformat_minor": 5
}
